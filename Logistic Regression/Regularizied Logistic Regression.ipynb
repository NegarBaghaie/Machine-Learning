{
 "cells": [
  {
   "cell_type": "markdown",
   "id": "61e29983-0fed-4b06-b663-c3f7146667ae",
   "metadata": {},
   "source": [
    "# Implementaion of Regularized Logistic Regression"
   ]
  },
  {
   "cell_type": "code",
   "execution_count": 185,
   "id": "48258dd1-e126-43bf-91b6-4f0a190a7aa9",
   "metadata": {},
   "outputs": [],
   "source": [
    "import numpy as np\n",
    "import matplotlib.pyplot as plt\n",
    "import math, copy"
   ]
  },
  {
   "cell_type": "markdown",
   "id": "8bed2c05-588c-48ca-8448-4c704ef11eba",
   "metadata": {},
   "source": [
    "### Cost function for regularized logistic regression\n",
    "For regularized **logistic** regression, the cost function is of the form\n",
    "$$J(\\mathbf{w},b) = \\frac{1}{m}  \\sum_{i=0}^{m-1} \\left[ -y^{(i)} \\log\\left(f_{\\mathbf{w},b}\\left( \\mathbf{x}^{(i)} \\right) \\right) - \\left( 1 - y^{(i)}\\right) \\log \\left( 1 - f_{\\mathbf{w},b}\\left( \\mathbf{x}^{(i)} \\right) \\right) \\right] + \\frac{\\lambda}{2m}  \\sum_{j=0}^{n-1} w_j^2 \\tag{3}$$\n",
    "where:\n",
    "$$ f_{\\mathbf{w},b}(\\mathbf{x}^{(i)}) = sigmoid(\\mathbf{w} \\cdot \\mathbf{x}^{(i)} + b)  \\tag{4} $$ \n"
   ]
  },
  {
   "cell_type": "markdown",
   "id": "35f1544a-e18a-46be-aaee-8a54d6d7232d",
   "metadata": {},
   "source": [
    "## Implementaion of cost func for regularized logistic regression"
   ]
  },
  {
   "cell_type": "code",
   "execution_count": 186,
   "id": "673a68fd-7054-47bb-aa3b-04af5f2b585d",
   "metadata": {},
   "outputs": [],
   "source": [
    "def sigmoid(z):\n",
    "    g = 1 / (1 + np.exp(- z))\n",
    "    return g"
   ]
  },
  {
   "cell_type": "code",
   "execution_count": 187,
   "id": "545ef396-bd99-482b-8af3-eb201367a176",
   "metadata": {},
   "outputs": [],
   "source": [
    "def cost_func_logistic_reg(X, y, w, b, lambda_ = 1):\n",
    "    m ,n = X.shape\n",
    "    cost = 0\n",
    "    reg = 0\n",
    "    \n",
    "    for i in range(m):\n",
    "        z = np.dot(X[i], w) + b\n",
    "        f_wb = sigmoid(z)\n",
    "        loss = -y[i] * np.log(f_wb) - ( 1 - y[i]) * np.log(1 - f_wb)\n",
    "        cost = cost + loss\n",
    "    cost = cost / m\n",
    "    \n",
    "    for j in range(n):\n",
    "        reg = reg + w[j] ** 2\n",
    "    reg = (lambda_/(2* m)) * reg  \n",
    "    \n",
    "    total_cost = cost + reg\n",
    "    \n",
    "    return total_cost"
   ]
  },
  {
   "cell_type": "code",
   "execution_count": 188,
   "id": "f6a6a849-eee3-4b59-8293-fcaf6224d60b",
   "metadata": {},
   "outputs": [
    {
     "name": "stdout",
     "output_type": "stream",
     "text": [
      "Regularized cost: 0.6850849138741673\n"
     ]
    }
   ],
   "source": [
    "np.random.seed(1)\n",
    "X_tmp = np.random.rand(5,6)\n",
    "y_tmp = np.array([0,1,0,1,0])\n",
    "w_tmp = np.random.rand(X_tmp.shape[1]).reshape(-1,)-0.5\n",
    "b_tmp = 0.5\n",
    "lambda_tmp = 0.7\n",
    "cost_tmp = cost_func_logistic_reg(X_tmp, y_tmp, w_tmp, b_tmp, lambda_tmp)\n",
    "\n",
    "print(\"Regularized cost:\", cost_tmp)"
   ]
  },
  {
   "cell_type": "markdown",
   "id": "98e19d42-5e48-44a9-987d-202567ef6e42",
   "metadata": {},
   "source": [
    "## Gradient descent with regularization\n",
    "The basic algorithm for running gradient descent does not change with regularization, it is:\n",
    "$$\\begin{align*}\n",
    "&\\text{repeat until convergence:} \\; \\lbrace \\\\\n",
    "&  \\; \\; \\;w_j = w_j -  \\alpha \\frac{\\partial J(\\mathbf{w},b)}{\\partial w_j} \\tag{1}  \\; & \\text{for j := 0..n-1} \\\\ \n",
    "&  \\; \\; \\;  \\; \\;b = b -  \\alpha \\frac{\\partial J(\\mathbf{w},b)}{\\partial b} \\\\\n",
    "&\\rbrace\n",
    "\\end{align*}$$\n",
    "Where each iteration performs simultaneous updates on $w_j$ for all $j$.\n",
    "\n",
    "What changes with regularization is computing the gradients."
   ]
  },
  {
   "cell_type": "markdown",
   "id": "bc9b6d70-dc1c-48fc-99a6-5f14fb5f2a3e",
   "metadata": {},
   "source": [
    "### Computing the Gradient with regularization \n",
    "$$\\begin{align*}\n",
    "\\frac{\\partial J(\\mathbf{w},b)}{\\partial w_j}  &= \\frac{1}{m} \\sum\\limits_{i = 0}^{m-1} (f_{\\mathbf{w},b}(\\mathbf{x}^{(i)}) - y^{(i)})x_{j}^{(i)}  +  \\frac{\\lambda}{m} w_j \\tag{2} \\\\\n",
    "\\frac{\\partial J(\\mathbf{w},b)}{\\partial b}  &= \\frac{1}{m} \\sum\\limits_{i = 0}^{m-1} (f_{\\mathbf{w},b}(\\mathbf{x}^{(i)}) - y^{(i)}) \\tag{3} \n",
    "\\end{align*}$$\n",
    "\n",
    "* m is the number of training examples in the data set      \n",
    "* $f_{\\mathbf{w},b}(x^{(i)})$ is the model's prediction, while $y^{(i)}$ is the target\n",
    "\n",
    "      \n",
    "* For a <span style=\"color:red\"> **logistic** </span> regression model  \n",
    "    $z = \\mathbf{w} \\cdot \\mathbf{x} + b$  \n",
    "    $f_{\\mathbf{w},b}(x) = g(z)$  \n",
    "    where $g(z)$ is the sigmoid function:  \n",
    "    $g(z) = \\frac{1}{1+e^{-z}}$   \n",
    "    \n",
    "The term which adds regularization is  the <span style=\"color:blue\">$\\frac{\\lambda}{m} w_j $</span>."
   ]
  },
  {
   "cell_type": "code",
   "execution_count": 189,
   "id": "6688e575-45c4-4ce9-b41d-510174f04dd2",
   "metadata": {},
   "outputs": [],
   "source": [
    "def gradient_logistic_reg(X, y, w, b, lambda_):\n",
    "    m, n = X.shape\n",
    "    dj_dw = np.zeros((n,))\n",
    "    dj_db = 0\n",
    "    reg = np.zeros((n,))\n",
    "    for i in range(m):\n",
    "        z = np.dot(X[i], w) + b\n",
    "        f_wb = sigmoid(z)\n",
    "        err = f_wb - y[i]\n",
    "        dj_db = dj_db + err\n",
    "        for j in range(n):\n",
    "            dj_dw[j] = dj_dw[j] + err * X[i, j]\n",
    "    dj_dw /= m\n",
    "    dj_db /= m\n",
    "    for j in range(n):\n",
    "        reg[j] = (lambda_/m) * w[j]\n",
    "    dj_dw += reg\n",
    "\n",
    "    return dj_db, dj_dw"
   ]
  },
  {
   "cell_type": "code",
   "execution_count": 190,
   "id": "9c4b33c8-37c0-4dfa-af95-f11f24b7ad34",
   "metadata": {},
   "outputs": [
    {
     "name": "stdout",
     "output_type": "stream",
     "text": [
      "dj_db: 0.46180803292157285\n",
      "Regularized dj_dw:\n",
      " [1.7204799146410867, 0.8226709512514854]\n"
     ]
    }
   ],
   "source": [
    "np.random.seed(1)\n",
    "X_tmp = np.array([[5,2],[2,1],[4, 3], [5, 3]])\n",
    "y_tmp = np.array([0,0,1, 1])\n",
    "w_tmp = np.random.rand(X_tmp.shape[1])\n",
    "b_tmp = 0.5\n",
    "lambda_tmp = 0.7\n",
    "dj_db_tmp, dj_dw_tmp =  gradient_logistic_reg(X_tmp, y_tmp, w_tmp, b_tmp, lambda_tmp)\n",
    "\n",
    "print(f\"dj_db: {dj_db_tmp}\", )\n",
    "print(f\"Regularized dj_dw:\\n {dj_dw_tmp.tolist()}\", )"
   ]
  },
  {
   "cell_type": "markdown",
   "id": "64aded0b-8a05-42c2-a6ff-b95ba3d45901",
   "metadata": {},
   "source": [
    "## Implementaion of gradient descent with regularization"
   ]
  },
  {
   "cell_type": "code",
   "execution_count": 191,
   "id": "7632ef3a-7f84-42f8-8a34-3391df8b4e03",
   "metadata": {},
   "outputs": [],
   "source": [
    "def gradient_descent(X, y, w_in, b_in, num_iter, alpha, lambda_):\n",
    "    w = copy.deepcopy(w_in)\n",
    "    b = b_in\n",
    "    J_hist = []\n",
    "    for i in range(num_iter):\n",
    "        dj_db, dj_dw = gradient_linear_reg(X, y, w, b, lambda_)\n",
    "        w = w - alpha * dj_dw\n",
    "        b = b - alpha * dj_db\n",
    "\n",
    "        if i < 90000:\n",
    "            J_hist.append(cost_func_logistic_reg(X, y, w, b, lambda_))\n",
    "        if i % math.ceil(num_iter/10) == 0:\n",
    "            print(f'iteration {i:4d} : cost = {J_hist[-1]}')\n",
    "    return w, b, J_hist"
   ]
  },
  {
   "cell_type": "code",
   "execution_count": 195,
   "id": "b441335f-a750-4d48-ab0e-2a2302c78a66",
   "metadata": {},
   "outputs": [
    {
     "name": "stdout",
     "output_type": "stream",
     "text": [
      "iteration    0 : cost = 1.5899317589870547\n",
      "iteration 9000 : cost = 0.48528935821992686\n",
      "iteration 18000 : cost = 0.4797374260465448\n",
      "iteration 27000 : cost = 0.47933663890709277\n",
      "iteration 36000 : cost = 0.4793032929702717\n",
      "iteration 45000 : cost = 0.4793004082151641\n",
      "iteration 54000 : cost = 0.47930015582009944\n",
      "iteration 63000 : cost = 0.47930013366379876\n",
      "iteration 72000 : cost = 0.47930013171691055\n",
      "iteration 81000 : cost = 0.4793001315457863\n",
      "w = [0.17202438 1.07817849] , b = -3.17724108913943\n"
     ]
    }
   ],
   "source": [
    "num_iter_tmp = 90000\n",
    "alpha_tmp = 0.8e-2\n",
    "w, b, J_hist = gradient_descent(X_tmp, y_tmp, w_tmp, b_tmp, num_iter_tmp, alpha_tmp, lambda_tmp)\n",
    "print(f'w = {w} , b = {b}')"
   ]
  },
  {
   "cell_type": "code",
   "execution_count": 193,
   "id": "943e7cf8-ca72-47cb-9aae-5b6c3929bc3f",
   "metadata": {},
   "outputs": [
    {
     "data": {
      "image/png": "[encoded data removed]",
      "text/plain": [
       "<Figure size 500x500 with 1 Axes>"
      ]
     },
     "metadata": {},
     "output_type": "display_data"
    }
   ],
   "source": [
    "fig, ax = plt.subplots(1, 1, figsize=(5,5))\n",
    "ax.plot(J_hist)\n",
    "plt.show()"
   ]
  },
  {
   "cell_type": "code",
   "execution_count": 194,
   "id": "efb143eb-61fc-4f71-bb73-81659a81abcc",
   "metadata": {},
   "outputs": [
    {
     "name": "stdout",
     "output_type": "stream",
     "text": [
      "[-0.16076321 -1.75486516  0.74540959  0.91739187]\n"
     ]
    }
   ],
   "source": [
    "m = X_tmp.shape[0]\n",
    "pre_y = np.zeros((m,))\n",
    "for i in range(m):\n",
    "    pre_y[i] = np.dot(X_tmp[i], w) + b\n",
    "print(pre_y)"
   ]
  },
  {
   "cell_type": "code",
   "execution_count": null,
   "id": "f74640dd-42dc-463f-9b6e-38c61829a8b1",
   "metadata": {},
   "outputs": [],
   "source": []
  }
 ],
 "metadata": {
  "kernelspec": {
   "display_name": "Python 3 (ipykernel)",
   "language": "python",
   "name": "python3"
  },
  "language_info": {
   "codemirror_mode": {
    "name": "ipython",
    "version": 3
   },
   "file_extension": ".py",
   "mimetype": "text/x-python",
   "name": "python",
   "nbconvert_exporter": "python",
   "pygments_lexer": "ipython3",
   "version": "3.11.4"
  }
 },
 "nbformat": 4,
 "nbformat_minor": 5
}
