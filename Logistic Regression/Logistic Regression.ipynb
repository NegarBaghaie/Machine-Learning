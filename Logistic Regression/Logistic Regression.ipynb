{
 "cells": [
  {
   "cell_type": "markdown",
   "id": "6dfe6df6-8f78-4b42-8c01-95f528fae784",
   "metadata": {},
   "source": [
    "# Implementation of Logistic Regression"
   ]
  },
  {
   "cell_type": "code",
   "execution_count": 17,
   "id": "54d8267f-7754-45d3-9bb1-ac1076098761",
   "metadata": {},
   "outputs": [],
   "source": [
    "import numpy as np\n",
    "import matplotlib.pyplot as plt\n",
    "import copy, math\n"
   ]
  },
  {
   "cell_type": "markdown",
   "id": "a9ecbd0d-d1b5-497c-a833-c812089779a9",
   "metadata": {},
   "source": [
    "### Data set:"
   ]
  },
  {
   "cell_type": "code",
   "execution_count": 18,
   "id": "2c1e041d-e603-4c4b-b4e2-30e83e142f93",
   "metadata": {},
   "outputs": [],
   "source": [
    "X_train = np.array([[0.5, 1.5], [1,1], [1.5, 0.5], [3, 0.5], [2, 2], [1, 2.5]])\n",
    "y_train = np.array([0, 0, 0, 1, 1, 1])"
   ]
  },
  {
   "cell_type": "markdown",
   "id": "d08412da-7cc6-4bf5-8fd4-210226cc69a3",
   "metadata": {},
   "source": [
    "### plot the data set"
   ]
  },
  {
   "cell_type": "code",
   "execution_count": 19,
   "id": "cae61fe2-54ea-4cfe-9cab-9eeb0caeb656",
   "metadata": {},
   "outputs": [
    {
     "data": {
      "image/png": "[encoded data removed]",
      "text/plain": [
       "<Figure size 400x400 with 1 Axes>"
      ]
     },
     "metadata": {},
     "output_type": "display_data"
    }
   ],
   "source": [
    "fig, ax = plt.subplots(1, 1, figsize=(4,4))\n",
    "m = X_train.shape[0]\n",
    "for i in range(m):\n",
    "    if y_train[i] == 1:\n",
    "        ax.scatter(X_train[i,0], X_train[i,1], c=\"r\", marker=\"x\", s=110)\n",
    "    else:\n",
    "        ax.scatter(X_train[i,0], X_train[i,1], c=\"b\", marker=\"o\", s=110)\n",
    "ax.set_xlabel('$x_0$', fontsize=12)\n",
    "ax.set_ylabel('$x_1$', fontsize=12)\n",
    "plt.show()"
   ]
  },
  {
   "cell_type": "markdown",
   "id": "be9846b2-aabb-4ae3-b83c-90cc87734c67",
   "metadata": {},
   "source": [
    "### implementation of sigmoid func"
   ]
  },
  {
   "cell_type": "code",
   "execution_count": 20,
   "id": "d4168d3c-9429-4212-b0b7-3c8c4cf04390",
   "metadata": {},
   "outputs": [],
   "source": [
    "def sigmiod(z):\n",
    "    g = 1 / (1 + np.exp(- z))\n",
    "    return g"
   ]
  },
  {
   "cell_type": "markdown",
   "id": "009b5cbf-5e3a-461f-a355-c9b656419e64",
   "metadata": {},
   "source": [
    "### Implementation of Cost func"
   ]
  },
  {
   "cell_type": "code",
   "execution_count": 21,
   "id": "d7c4d326-03a8-4b4d-bb8b-853f12fd40d0",
   "metadata": {},
   "outputs": [],
   "source": [
    "def cost_function(X, y, w, b):\n",
    "    \n",
    "    m = X.shape[0]\n",
    "    cost = 0\n",
    "    for i in range(m):\n",
    "        z = X[i] @ w + b\n",
    "        f_wb = sigmiod(z)\n",
    "        loss = y[i] * np.log(f_wb) + (1 - y[i]) * np.log(1 - f_wb)\n",
    "        cost = cost + loss\n",
    "    total_cost = -(cost/m)\n",
    "\n",
    "    return total_cost"
   ]
  },
  {
   "cell_type": "markdown",
   "id": "81644919-23dd-4596-9215-074dd9861247",
   "metadata": {},
   "source": [
    "\n",
    "### gradient descent algorithm utilizes the gradient calculation:\n",
    "$$\\begin{align*}\n",
    "&\\text{repeat until convergence:} \\; \\lbrace \\\\\n",
    "&  \\; \\; \\;w_j = w_j -  \\alpha \\frac{\\partial J(\\mathbf{w},b)}{\\partial w_j} \\tag{1}  \\; & \\text{for j := 0..n-1} \\\\ \n",
    "&  \\; \\; \\;  \\; \\;b = b -  \\alpha \\frac{\\partial J(\\mathbf{w},b)}{\\partial b} \\\\\n",
    "&\\rbrace\n",
    "\\end{align*}$$\n",
    "\n",
    "Where each iteration performs simultaneous updates on $w_j$ for all $j$, where\n",
    "$$\\begin{align*}\n",
    "\\frac{\\partial J(\\mathbf{w},b)}{\\partial w_j}  &= \\frac{1}{m} \\sum\\limits_{i = 0}^{m-1} (f_{\\mathbf{w},b}(\\mathbf{x}^{(i)}) - y^{(i)})x_{j}^{(i)} \\tag{2} \\\\\n",
    "\\frac{\\partial J(\\mathbf{w},b)}{\\partial b}  &= \\frac{1}{m} \\sum\\limits_{i = 0}^{m-1} (f_{\\mathbf{w},b}(\\mathbf{x}^{(i)}) - y^{(i)}) \\tag{3} \n",
    "\\end{align*}$$\n",
    "\n",
    "* m is the number of training examples in the data set      \n",
    "* $f_{\\mathbf{w},b}(x^{(i)})$ is the model's prediction, while $y^{(i)}$ is the target\n",
    "* For a logistic regression model  \n",
    "    $z = \\mathbf{w} \\cdot \\mathbf{x} + b$  \n",
    "    $f_{\\mathbf{w},b}(x) = g(z)$  \n",
    "    where $g(z)$ is the sigmoid function:  \n",
    "    $g(z) = \\frac{1}{1+e^{-z}}$   "
   ]
  },
  {
   "cell_type": "markdown",
   "id": "939f75d6-902b-4302-9596-d28828d9d135",
   "metadata": {},
   "source": [
    "## Implementation of gradient func"
   ]
  },
  {
   "cell_type": "code",
   "execution_count": 22,
   "id": "a809ce91-7041-4be0-ae52-bb4e68facfbe",
   "metadata": {},
   "outputs": [],
   "source": [
    "def gradient_func_logistic(X, y, w, b):\n",
    "    \n",
    "    m, n = X.shape\n",
    "    dj_dw = np.zeros((n,))\n",
    "    dj_db = 0\n",
    "    for i in range(m):\n",
    "        \n",
    "        z = X[i]@w + b\n",
    "        f_wb = sigmiod(z)\n",
    "        err = f_wb - y[i]\n",
    "        dj_db = dj_db + err\n",
    "        for j in range(n):\n",
    "            dj_dw[j] = dj_dw[j] + err * X[i, j]\n",
    "            \n",
    "    dj_dw /= m\n",
    "    dj_db /= m\n",
    "    \n",
    "    return dj_dw, dj_db"
   ]
  },
  {
   "cell_type": "markdown",
   "id": "168b0044-db27-4785-a526-ab6f6602616d",
   "metadata": {},
   "source": [
    "## implementation of gradient decsent for logistic regression"
   ]
  },
  {
   "cell_type": "code",
   "execution_count": 23,
   "id": "81b6b88e-d193-4ebd-a59b-c7bbd993aaf7",
   "metadata": {},
   "outputs": [],
   "source": [
    "def gradient_decsent_logistic(X, y, w_in, b_in, alpha, num_iter):\n",
    "    \n",
    "    w = copy.deepcopy(w_in)\n",
    "    b = b_in\n",
    "    J_hist = []\n",
    "    for i in range(num_iter):\n",
    "        dj_dw, dj_db = gradient_func_logistic(X, y, w, b)\n",
    "        w = w - alpha * dj_dw\n",
    "        b = b - alpha * dj_db\n",
    "\n",
    "        if i < 100000:\n",
    "            J_hist.append(cost_function(X, y, w, b))\n",
    "            \n",
    "        if i% math.ceil(num_iter / 10) == 0:\n",
    "            print(f\"Iteration {i:4d}: Cost {J_hist[-1]}   \")\n",
    "            \n",
    "    return w, b, J_hist\n",
    "        "
   ]
  },
  {
   "cell_type": "code",
   "execution_count": 24,
   "id": "1ef5d849-71d1-4d01-a384-328e43836351",
   "metadata": {},
   "outputs": [
    {
     "name": "stdout",
     "output_type": "stream",
     "text": [
      "Iteration    0: Cost 0.684610468560574   \n",
      "Iteration 1000: Cost 0.1590977666870457   \n",
      "Iteration 2000: Cost 0.08460064176930078   \n",
      "Iteration 3000: Cost 0.05705327279402531   \n",
      "Iteration 4000: Cost 0.04290759421682   \n",
      "Iteration 5000: Cost 0.03433847729884557   \n",
      "Iteration 6000: Cost 0.02860379802212006   \n",
      "Iteration 7000: Cost 0.02450156960879306   \n",
      "Iteration 8000: Cost 0.02142370332569295   \n",
      "Iteration 9000: Cost 0.019030137124109114   \n",
      "\n",
      "updated parameters: w:[5.28123029 5.07815608], b:-14.222409982019837\n"
     ]
    }
   ],
   "source": [
    "n = X_train.shape[1]\n",
    "w_tmp  = np.zeros(n)\n",
    "b_tmp  = 0.\n",
    "alph = 0.1\n",
    "iters = 10000\n",
    "\n",
    "w_out, b_out, _ = gradient_decsent_logistic(X_train, y_train, w_tmp, b_tmp, alph, iters) \n",
    "print(f\"\\nupdated parameters: w:{w_out}, b:{b_out}\")"
   ]
  },
  {
   "cell_type": "markdown",
   "id": "2cbed682-827e-483f-b9ed-0e7ac07d8548",
   "metadata": {},
   "source": [
    "### plot the result and decision boundry"
   ]
  },
  {
   "cell_type": "code",
   "execution_count": 25,
   "id": "068d0fbb-de56-4b1b-96d1-165379f71d2c",
   "metadata": {},
   "outputs": [
    {
     "data": {
      "image/png": "[encoded data removed]",
      "text/plain": [
       "<Figure size 400x400 with 1 Axes>"
      ]
     },
     "metadata": {},
     "output_type": "display_data"
    }
   ],
   "source": [
    "m = X_train.shape[0]\n",
    "predic = np.zeros(m)\n",
    "for i in range(m):\n",
    "    z = w_out@X_train[i] + b_out\n",
    "    predic[i] = sigmiod(z)\n",
    "fig, ax = plt.subplots(1, 1, figsize=(4,4))\n",
    "for i in range(m):\n",
    "    if predic[i] >= 0.5:\n",
    "        ax.scatter(X_train[i,0], X_train[i,1], c=\"r\", marker=\"x\", s=110)\n",
    "    else:\n",
    "        ax.scatter(X_train[i,0], X_train[i,1], c=\"b\", marker=\"o\", s=110)\n",
    "ax.set_xlabel('$x_0$', fontsize=12)\n",
    "ax.set_ylabel('$x_1$', fontsize=12)\n",
    "\n",
    "x0 = np.arange(0,6)\n",
    "x1 = - (w_out[0] * x0 + b_out) / w_out[1]\n",
    "ax.axis([0, 4, 0, 4])\n",
    "ax.plot(x0, x1, label=\"decision boundry\")\n",
    "plt.legend()\n",
    "plt.show()"
   ]
  },
  {
   "cell_type": "markdown",
   "id": "8be0c3f4-b402-4292-b41a-eb05aa7c3fbf",
   "metadata": {},
   "source": [
    "we can see our perdiction is awsome :)"
   ]
  },
  {
   "cell_type": "markdown",
   "id": "60ccadcf-d608-49f5-9ebe-86a58e73c9bd",
   "metadata": {},
   "source": [
    "## Another data set"
   ]
  },
  {
   "cell_type": "code",
   "execution_count": 26,
   "id": "86821f6b-2073-4a0f-993d-cc6c4984b5ea",
   "metadata": {},
   "outputs": [],
   "source": [
    "x_train2 = np.array([[0.], [1],[2], [3], [4],[ 5]])\n",
    "y_train2 = np.array([0,  0, 0, 1, 1, 1])"
   ]
  },
  {
   "cell_type": "markdown",
   "id": "0bcf7853-426b-490e-89a3-7ed0da404d91",
   "metadata": {},
   "source": [
    "### plot the data set"
   ]
  },
  {
   "cell_type": "code",
   "execution_count": 27,
   "id": "d4deca49-2c05-4092-965e-8b0d8ea09435",
   "metadata": {},
   "outputs": [
    {
     "data": {
      "image/png": "[encoded data removed]",
      "text/plain": [
       "<Figure size 400x400 with 1 Axes>"
      ]
     },
     "metadata": {},
     "output_type": "display_data"
    }
   ],
   "source": [
    "fig, ax = plt.subplots(1, 1, figsize=(4,4))\n",
    "m = x_train2.shape[0]\n",
    "for i in range(m):\n",
    "    if y_train2[i] == 1:\n",
    "        ax.scatter(x_train2[i,0], y_train2[i], c=\"r\", marker=\"x\", s=110)\n",
    "    else:\n",
    "        ax.scatter(x_train2[i,0], y_train2[i], c=\"b\", marker=\"o\", s=110)\n",
    "ax.set_xlabel('$x$', fontsize=12)\n",
    "ax.set_ylabel('$y$', fontsize=12)\n",
    "plt.show()"
   ]
  },
  {
   "cell_type": "markdown",
   "id": "c66e8b92-ddef-4c67-8135-e3d98416b066",
   "metadata": {},
   "source": [
    "### run the gradiene descent for the new data set"
   ]
  },
  {
   "cell_type": "code",
   "execution_count": 28,
   "id": "dd1127c7-d9e5-42a3-a5ad-d999c9a6cb68",
   "metadata": {},
   "outputs": [
    {
     "name": "stdout",
     "output_type": "stream",
     "text": [
      "Iteration    0: Cost 0.6433158133057238   \n",
      "Iteration 1000: Cost 0.1132929921599034   \n",
      "Iteration 2000: Cost 0.07793458704949963   \n",
      "Iteration 3000: Cost 0.0611139750771269   \n",
      "Iteration 4000: Cost 0.05067060233609751   \n",
      "Iteration 5000: Cost 0.04339775780412448   \n",
      "Iteration 6000: Cost 0.03799053561526236   \n",
      "Iteration 7000: Cost 0.03379355724130196   \n",
      "Iteration 8000: Cost 0.030433646671395555   \n",
      "Iteration 9000: Cost 0.0276797908056348   \n",
      "\n",
      "updated parameters: w:[5.28123029 5.07815608], b:-14.222409982019837\n"
     ]
    }
   ],
   "source": [
    "w_tmp  = np.array([0])\n",
    "b_tmp  = 0.\n",
    "alph = 0.1\n",
    "iters = 10000\n",
    "\n",
    "w_out2, b_out2, _ = gradient_decsent_logistic(x_train2, y_train2, w_tmp, b_tmp, alph, iters) \n",
    "print(f\"\\nupdated parameters: w:{w_out}, b:{b_out}\")"
   ]
  },
  {
   "cell_type": "markdown",
   "id": "40cb0cef-4eca-400a-b189-119dda16a544",
   "metadata": {},
   "source": [
    "### plot the result"
   ]
  },
  {
   "cell_type": "code",
   "execution_count": 29,
   "id": "baf8ba21-2dd6-44be-aef5-33752bcdab47",
   "metadata": {},
   "outputs": [],
   "source": [
    "def predict(X, w, b): \n",
    "\n",
    "    m, n = X.shape   \n",
    "    p = np.zeros(m)\n",
    "    for i in range(m):  \n",
    "        \n",
    "        z = np.dot(X[i], w) + b\n",
    "        f_wb = sigmiod(z)\n",
    "        if f_wb >= 0.5:\n",
    "            p[i] = 1\n",
    "        else: \n",
    "            p[i] = 0\n",
    "    return p"
   ]
  },
  {
   "cell_type": "code",
   "execution_count": 30,
   "id": "c681f26f-f1e0-422b-9273-569168f7ea0e",
   "metadata": {},
   "outputs": [
    {
     "data": {
      "image/png": "[encoded data removed]",
      "text/plain": [
       "<Figure size 400x400 with 1 Axes>"
      ]
     },
     "metadata": {},
     "output_type": "display_data"
    }
   ],
   "source": [
    "p =  predict(x_train2, w_out2, b_out2)\n",
    "\n",
    "fig, ax = plt.subplots(1, 1, figsize=(4,4))\n",
    "m = x_train2.shape[0]\n",
    "for i in range(m):\n",
    "    if y_train2[i] == 1:\n",
    "        ax.scatter(x_train2[i,0], y_train2[i], c=\"r\", marker=\"x\", s=110)\n",
    "    else:\n",
    "        ax.scatter(x_train2[i,0], y_train2[i], c=\"b\", marker=\"o\", s=110)\n",
    "\n",
    "ax.plot(x_train2, predic)\n",
    "ax.set_xlabel('$x$', fontsize=12)\n",
    "ax.set_ylabel('$y$', fontsize=12)\n",
    "\n",
    "plt.show()"
   ]
  },
  {
   "cell_type": "markdown",
   "id": "42ca73b0-e3c7-4634-8aff-24e1cd07c59b",
   "metadata": {},
   "source": [
    "### Now let's use this to compute the accuracy on the training set"
   ]
  },
  {
   "cell_type": "code",
   "execution_count": 32,
   "id": "8a9c33bb-4fa7-4811-a5c3-5c41cac4959a",
   "metadata": {},
   "outputs": [
    {
     "name": "stdout",
     "output_type": "stream",
     "text": [
      "Train Accuracy: 100.000000\n"
     ]
    }
   ],
   "source": [
    "print('Train Accuracy: %f'%(np.mean(p == y_train) * 100))"
   ]
  },
  {
   "cell_type": "code",
   "execution_count": null,
   "id": "a26aeb11-b430-4500-8d64-38fd5fb5ec53",
   "metadata": {},
   "outputs": [],
   "source": []
  }
 ],
 "metadata": {
  "kernelspec": {
   "display_name": "Python 3 (ipykernel)",
   "language": "python",
   "name": "python3"
  },
  "language_info": {
   "codemirror_mode": {
    "name": "ipython",
    "version": 3
   },
   "file_extension": ".py",
   "mimetype": "text/x-python",
   "name": "python",
   "nbconvert_exporter": "python",
   "pygments_lexer": "ipython3",
   "version": "3.11.4"
  }
 },
 "nbformat": 4,
 "nbformat_minor": 5
}
