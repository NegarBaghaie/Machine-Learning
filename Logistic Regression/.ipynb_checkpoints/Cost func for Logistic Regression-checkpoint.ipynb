{
 "cells": [
  {
   "cell_type": "code",
   "execution_count": 3,
   "id": "6d56077f-d10d-44a4-99cb-e0fc6e0cb2ff",
   "metadata": {},
   "outputs": [],
   "source": [
    "import numpy as np\n",
    "import matplotlib.pyplot as plt\n",
    "import math"
   ]
  },
  {
   "cell_type": "markdown",
   "id": "2e6da0cf-b7e4-4014-b63b-54198be2be84",
   "metadata": {},
   "source": [
    "# Implementation of Logistic regression\n",
    "formula: \n",
    "$$ f_{\\mathbf{w},b}(\\mathbf{x}^{(i)}) = g(\\mathbf{w} \\cdot \\mathbf{x}^{(i)} + b ) \\tag{2} $$ \r\n",
    "\r\n",
    "  where\r\n",
    "\r\n",
    "  $g(z) = \\frac{1}{1+e^{-z}}\\tag{3}$$$$${3}${3}${3}${3}${3}$"
   ]
  },
  {
   "cell_type": "markdown",
   "id": "0e3fdc2f-3a04-44ac-8297-3366b394760f",
   "metadata": {},
   "source": [
    "### so for finding w, b we need to implement gradient descent"
   ]
  },
  {
   "cell_type": "code",
   "execution_count": 8,
   "id": "7a705d4e-04f0-45d3-9140-1152043aa816",
   "metadata": {},
   "outputs": [],
   "source": [
    "def gradient_func(X, y, w, b):\n",
    "    m, n = X.shape\n",
    "    dj_dw = np.zeros(n)\n",
    "    dj_db = 0\n",
    "    for i in range(m):\n",
    "        f_wb = X[i]@w + b\n",
    "        error = f_wb - y[i]\n",
    "        dj_db = dj_db + error\n",
    "        for j in range(n):\n",
    "            dj_dw[j] = dj_dw[j] + error * X[i,j]\n",
    "\n",
    "    dj_dw = dj_dw / m\n",
    "    dj_db = dj_db / m\n",
    "    return  dj_dw,  dj_db\n"
   ]
  },
  {
   "cell_type": "code",
   "execution_count": 9,
   "id": "5a1960b0-a613-456c-93ad-f829083735bb",
   "metadata": {},
   "outputs": [],
   "source": [
    "def gradient_descent(X, y, w_in, b_in, alpha, num_iter):\n",
    "    w = w_in\n",
    "    b = b_in\n",
    "    for i in range(num_iter):\n",
    "        dj_dw, dj_db = gradient_func(X, y, w, b)\n",
    "        w = w - alpha * dj_dw\n",
    "        b = b - alpha * dj_db\n",
    "\n",
    "    return dj_dw, dj_db\n",
    "    "
   ]
  },
  {
   "cell_type": "code",
   "execution_count": 4,
   "id": "63bf8222-19e3-474d-bdff-1f590cddd79b",
   "metadata": {},
   "outputs": [],
   "source": [
    "def logistic_regression(X, w, b):\n",
    "    m = X.shape[0]\n",
    "    g = np.zeros(m)\n",
    "    for i in range(m):\n",
    "        f_wb = np.dot(X[i], w) + b\n",
    "        g[i] = 1 / (1 + np.exp(-f_wb))\n",
    "\n",
    "    return g"
   ]
  }
 ],
 "metadata": {
  "kernelspec": {
   "display_name": "Python 3 (ipykernel)",
   "language": "python",
   "name": "python3"
  },
  "language_info": {
   "codemirror_mode": {
    "name": "ipython",
    "version": 3
   },
   "file_extension": ".py",
   "mimetype": "text/x-python",
   "name": "python",
   "nbconvert_exporter": "python",
   "pygments_lexer": "ipython3",
   "version": "3.11.4"
  }
 },
 "nbformat": 4,
 "nbformat_minor": 5
}
