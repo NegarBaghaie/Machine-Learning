{
 "cells": [
  {
   "cell_type": "markdown",
   "id": "1bea4310-19e1-476d-ab1f-5d31f53abc56",
   "metadata": {},
   "source": [
    "# Implementation of Cost func for Logistic regression"
   ]
  },
  {
   "cell_type": "code",
   "execution_count": 1,
   "id": "6d56077f-d10d-44a4-99cb-e0fc6e0cb2ff",
   "metadata": {},
   "outputs": [],
   "source": [
    "import numpy as np\n",
    "import matplotlib.pyplot as plt\n",
    "import math"
   ]
  },
  {
   "cell_type": "markdown",
   "id": "2d173aef-82fc-4844-9e5a-36fb7a076eb4",
   "metadata": {},
   "source": [
    "## Formulas:\n",
    "\n",
    "the cost function for logistic regression is of the form:\r\n",
    "\r\n",
    "$$ J(\\mathbf{w},b) = \\frac{1}{m} \\sum_{i=0}^{m-1} \\left[ loss(f_{\\mathbf{w},b}(\\mathbf{x}^{(i)}), y^{(i)}) \\right] \\tag{1}$$\r\n",
    "\r\n",
    "where\r\n",
    "* $loss(f_{\\mathbf{w},b}(\\mathbf{x}^{(i)}), y^{(i)})$ is the cost for a single data point, which is:\r\n",
    "\r\n",
    "    $$loss(f_{\\mathbf{w},b}(\\mathbf{x}^{(i)}), y^{(i)}) = -y^{(i)} \\log\\left(f_{\\mathbf{w},b}\\left( \\mathbf{x}^{(i)} \\right) \\right) - \\left( 1 - y^{(i)}\\right) \\log \\left( 1 - f_{\\mathbf{w},b}\\left( \\mathbf{x}^{(i)} \\right) \\right) \\tag{2}$$\r\n",
    "    \r\n",
    "*  where m is the number of training examples in the data set and:\r\n",
    "$$\r\n",
    "\\begin{align}\r\n",
    "  f_{\\mathbf{w},b}(\\mathbf{x^{(i)}}) &= g(z^{(i)})\\tag{3} \\\\\r\n",
    "  z^{(i)} &= \\mathbf{w} \\cdot \\mathbf{x}^{(i)}+ b\\tag{4} \\\\\r\n",
    "  g(z^{(i)}) &= \\frac{1}{1+e^{-z^{(i)}}}\\tag{5} \r\n",
    "\\end{align}\r\n",
    "$$"
   ]
  },
  {
   "cell_type": "markdown",
   "id": "6f664c45-7118-4b3a-b191-abcfb75cd97d",
   "metadata": {},
   "source": [
    "### implementation of sigmoid func"
   ]
  },
  {
   "cell_type": "code",
   "execution_count": 2,
   "id": "63bf8222-19e3-474d-bdff-1f590cddd79b",
   "metadata": {},
   "outputs": [],
   "source": [
    "def sigmiod(z):\n",
    "    g = 1 / (1 + np.exp(- z))\n",
    "    return g"
   ]
  },
  {
   "cell_type": "markdown",
   "id": "f4b7843e-176d-4223-aead-44931461d6d7",
   "metadata": {},
   "source": [
    "### Implementation of Cost func"
   ]
  },
  {
   "cell_type": "code",
   "execution_count": 3,
   "id": "a70504a1-4062-4030-884d-b0458bdc5146",
   "metadata": {},
   "outputs": [],
   "source": [
    "def cost_function(X, y, w, b):\n",
    "    \n",
    "    m = X.shape[0]\n",
    "    cost = 0\n",
    "    for i in range(m):\n",
    "        z = X[i] @ w + b\n",
    "        f_wb = sigmiod(z)\n",
    "        loss = y[i] * np.log(f_wb) + (1 - y[i]) * np.log(1 - f_wb)\n",
    "        cost = cost + loss\n",
    "    total_cost = -(cost/m)\n",
    "\n",
    "    return total_cost\n",
    "        "
   ]
  },
  {
   "cell_type": "markdown",
   "id": "138219fe-57b6-433d-9f67-a1bf3a246b95",
   "metadata": {},
   "source": [
    "### Data set"
   ]
  },
  {
   "cell_type": "code",
   "execution_count": 4,
   "id": "ac52ac69-750d-45c4-9f1b-69dba31b6966",
   "metadata": {},
   "outputs": [],
   "source": [
    "X_train = np.array([[0.5, 1.5], [1,1], [1.5, 0.5], [3, 0.5], [2, 2], [1, 2.5]])  #(m,n)\n",
    "y_train = np.array([0, 0, 0, 1, 1, 1])        "
   ]
  },
  {
   "cell_type": "markdown",
   "id": "d57667a5-e2b2-4022-8c5f-e43d4d0d390a",
   "metadata": {},
   "source": [
    "### Now we plot our data set"
   ]
  },
  {
   "cell_type": "code",
   "execution_count": 7,
   "id": "b89db0a7-afc4-4c38-831e-dd04be995087",
   "metadata": {},
   "outputs": [
    {
     "data": {
      "image/png": "[encoded data removed]",
      "text/plain": [
       "<Figure size 400x400 with 1 Axes>"
      ]
     },
     "metadata": {},
     "output_type": "display_data"
    }
   ],
   "source": [
    "fig, ax = plt.subplots(1, 1, figsize=(4,4))\n",
    "m = X_train.shape[0]\n",
    "for i in range(m):\n",
    "    if y_train[i] == 1:\n",
    "        ax.scatter(X_train[i,0], X_train[i,1], c = 'r', marker = 'x', s=100)\n",
    "    else: \n",
    "        ax.scatter(X_train[i,0], X_train[i,1], c = 'b', marker = 'o', s=100)\n",
    "ax.set_xlabel('$x_0$', fontsize=12)\n",
    "ax.set_ylabel('$x_1$', fontsize=12)\n",
    "plt.show()"
   ]
  },
  {
   "cell_type": "markdown",
   "id": "a4a0e403-0b03-4937-9b2f-f6ac563ccce3",
   "metadata": {},
   "source": [
    "## now we run cost function"
   ]
  },
  {
   "cell_type": "code",
   "execution_count": 6,
   "id": "051e8f3d-6fbc-46f1-8fb6-a158b69df801",
   "metadata": {},
   "outputs": [
    {
     "name": "stdout",
     "output_type": "stream",
     "text": [
      "0.36686678640551745\n"
     ]
    }
   ],
   "source": [
    "w_tmp = np.array([1,1])\n",
    "b_tmp = -3\n",
    "print(cost_function(X_train, y_train, w_tmp, b_tmp))"
   ]
  }
 ],
 "metadata": {
  "kernelspec": {
   "display_name": "Python 3 (ipykernel)",
   "language": "python",
   "name": "python3"
  },
  "language_info": {
   "codemirror_mode": {
    "name": "ipython",
    "version": 3
   },
   "file_extension": ".py",
   "mimetype": "text/x-python",
   "name": "python",
   "nbconvert_exporter": "python",
   "pygments_lexer": "ipython3",
   "version": "3.11.4"
  }
 },
 "nbformat": 4,
 "nbformat_minor": 5
}
