{
 "cells": [
  {
   "cell_type": "code",
   "execution_count": 23,
   "id": "0b4171b4-4302-4d3a-9114-a1bfbb95bd7e",
   "metadata": {},
   "outputs": [],
   "source": [
    "import numpy as np"
   ]
  },
  {
   "cell_type": "code",
   "execution_count": 24,
   "id": "af34b436-acc7-407c-b98f-5a93417f4edf",
   "metadata": {},
   "outputs": [],
   "source": [
    "X_train = np.array([[1, 1, 1],\n",
    "[0, 0, 1],\n",
    " [0, 1, 0],\n",
    " [1, 0, 1],\n",
    " [1, 1, 1],\n",
    " [1, 1, 0],\n",
    " [0, 0, 0],\n",
    " [1, 1, 0],\n",
    " [0, 1, 0],\n",
    " [0, 1, 0]])\n",
    "\n",
    "y_train = np.array([1, 1, 0, 0, 1, 1, 0, 1, 0, 0])"
   ]
  },
  {
   "cell_type": "code",
   "execution_count": 25,
   "id": "93722fbb-d363-447d-a09d-3e5f12fbc60a",
   "metadata": {},
   "outputs": [],
   "source": [
    "def split_indices(X, feature_index):\n",
    "    \n",
    "    left_indices = []\n",
    "    right_indices = []\n",
    "    \n",
    "    for i, x in enumerate(X):\n",
    "        if x[feature_index] == 1:\n",
    "            left_indices.append(i)\n",
    "        else:\n",
    "            right_indices.append(i)\n",
    "            \n",
    "    return left_indices, right_indices"
   ]
  },
  {
   "cell_type": "code",
   "execution_count": 26,
   "id": "cade0fff-09e3-4bf4-a9f5-aa6b8c3a26d9",
   "metadata": {},
   "outputs": [],
   "source": [
    "def entropy(p):\n",
    "    H = -p * np.log2(p) - (1 - p) * np.log2(1 - p)\n",
    "    return H"
   ]
  },
  {
   "cell_type": "code",
   "execution_count": 27,
   "id": "e461e7de-46c7-4f7a-a8ec-9e5451c0f79d",
   "metadata": {},
   "outputs": [],
   "source": [
    "def weighted_entropy(X, y, left_indices, right_indices):\n",
    "    w_left = len(left_indices)/len(y)\n",
    "    w_right = len(right_indices)/len(y)\n",
    "    p_left = sum(y[left_indices])/len(left_indices)\n",
    "    p_right = sum(y[right_indices])/len(right_indices)\n",
    "    w_e = w_left * entropy(p_left) + w_right * entropy(p_right)\n",
    "    return w_e"
   ]
  },
  {
   "cell_type": "code",
   "execution_count": 28,
   "id": "1523dd3e-b71a-4f5f-a9dd-bbcb9b3e4a7d",
   "metadata": {},
   "outputs": [],
   "source": [
    "def information_gain(X, y, left_indices, right_indices):\n",
    "    p_root = sum(y)/len(y)\n",
    "    e_root = entropy(p_root)\n",
    "    w_e = weighted_entropy(X, y, left_indices, right_indices)\n",
    "    return e_root - w_e"
   ]
  },
  {
   "cell_type": "code",
   "execution_count": 30,
   "id": "ffbb8470-eb5a-4182-9338-603aaa59a529",
   "metadata": {},
   "outputs": [
    {
     "name": "stdout",
     "output_type": "stream",
     "text": [
      "Feature: Ear Shape, information gain if we split the root node using this feature: 0.28\n",
      "Feature: Face Shape, information gain if we split the root node using this feature: 0.03\n",
      "Feature: Whiskers, information gain if we split the root node using this feature: 0.12\n"
     ]
    }
   ],
   "source": [
    "IG = np.zeros(X_train.shape[1])\n",
    "for i, feature_name in enumerate(['Ear Shape', 'Face Shape', 'Whiskers']):\n",
    "    left_indices, right_indices = split_indices(X_train, i)\n",
    "    IG[i] = information_gain(X_train, y_train, left_indices, right_indices)\n",
    "    print(f\"Feature: {feature_name}, information gain if we split the root node using this feature: {IG[i]:.2f}\")\n"
   ]
  },
  {
   "cell_type": "code",
   "execution_count": 31,
   "id": "9548fe6b-88ec-45c3-a25a-eaadf1b473bf",
   "metadata": {},
   "outputs": [
    {
     "data": {
      "text/plain": [
       "0"
      ]
     },
     "execution_count": 31,
     "metadata": {},
     "output_type": "execute_result"
    }
   ],
   "source": [
    "np.argmax(IG)"
   ]
  },
  {
   "cell_type": "code",
   "execution_count": null,
   "id": "14f1e65a-cb39-4a8e-a0ea-09339a105fe9",
   "metadata": {},
   "outputs": [],
   "source": []
  }
 ],
 "metadata": {
  "kernelspec": {
   "display_name": "Python 3 (ipykernel)",
   "language": "python",
   "name": "python3"
  },
  "language_info": {
   "codemirror_mode": {
    "name": "ipython",
    "version": 3
   },
   "file_extension": ".py",
   "mimetype": "text/x-python",
   "name": "python",
   "nbconvert_exporter": "python",
   "pygments_lexer": "ipython3",
   "version": "3.11.4"
  }
 },
 "nbformat": 4,
 "nbformat_minor": 5
}
